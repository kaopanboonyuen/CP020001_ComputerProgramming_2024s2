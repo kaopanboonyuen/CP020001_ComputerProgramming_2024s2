{
  "nbformat": 4,
  "nbformat_minor": 0,
  "metadata": {
    "colab": {
      "provenance": [],
      "toc_visible": true
    },
    "kernelspec": {
      "name": "python3",
      "display_name": "Python 3"
    },
    "language_info": {
      "name": "python"
    }
  },
  "cells": [
    {
      "cell_type": "markdown",
      "source": [
        "# CP020001 Computer Programming (Basic Python I)"
      ],
      "metadata": {
        "id": "uVbfgHLadLhB"
      }
    },
    {
      "cell_type": "markdown",
      "source": [
        "# What Are Data Types?"
      ],
      "metadata": {
        "id": "kKK2RR_ecS9V"
      }
    },
    {
      "cell_type": "code",
      "execution_count": null,
      "metadata": {
        "id": "QL3Hj2X7U755"
      },
      "outputs": [],
      "source": [
        "x = 42\n",
        "print(type(x))  # Output: <class 'int'>"
      ]
    },
    {
      "cell_type": "code",
      "source": [
        "y = 3.14\n",
        "print(type(y))  # Output: <class 'float'>"
      ],
      "metadata": {
        "id": "J7Za5OgWcb73"
      },
      "execution_count": null,
      "outputs": []
    },
    {
      "cell_type": "code",
      "source": [
        "z = 3 + 5j\n",
        "print(type(z))  # Output: <class 'complex'>"
      ],
      "metadata": {
        "id": "nIJhFmKmcb2q"
      },
      "execution_count": null,
      "outputs": []
    },
    {
      "cell_type": "code",
      "source": [
        "name = \"Python\"\n",
        "print(type(name))  # Output: <class 'str'>"
      ],
      "metadata": {
        "id": "d8XKBuQdcb0D"
      },
      "execution_count": null,
      "outputs": []
    },
    {
      "cell_type": "code",
      "source": [
        "greeting = \"Hello\"\n",
        "name = \"World\"\n",
        "print(greeting + \" \" + name)  # Concatenation: Output: \"Hello World\"\n",
        "print(len(greeting))          # Length: Output: 5\n",
        "print(greeting[0])            # Indexing: Output: \"H\"\n",
        "print(greeting[-1])           # Negative Indexing: Output: \"o\"\n",
        "print(greeting.upper())       # Uppercase: Output: \"HELLO\""
      ],
      "metadata": {
        "id": "6Q29GMOPcbxd"
      },
      "execution_count": null,
      "outputs": []
    },
    {
      "cell_type": "code",
      "source": [
        "is_python_fun = True\n",
        "print(type(is_python_fun))  # Output: <class 'bool'>\n",
        "print(5 > 3)                # Output: True\n",
        "print(3 > 5)                # Output: False"
      ],
      "metadata": {
        "id": "zf1hXKc8cbvG"
      },
      "execution_count": null,
      "outputs": []
    },
    {
      "cell_type": "code",
      "source": [
        "fruits = [\"🍎\", \"🍌\", \"🍇\"]\n",
        "print(type(fruits))          # Output: <class 'list'>\n",
        "print(fruits[0])             # Access first item: Output: \"🍎\"\n",
        "fruits.append(\"🍓\")          # Add an item\n",
        "print(fruits)                # Output: ['🍎', '🍌', '🍇', '🍓']"
      ],
      "metadata": {
        "id": "NwmvoGg2cbsg"
      },
      "execution_count": null,
      "outputs": []
    },
    {
      "cell_type": "code",
      "source": [
        "coordinates = (10, 20, 30)\n",
        "print(type(coordinates))      # Output: <class 'tuple'>\n",
        "print(coordinates[1])         # Access second item: Output: 20"
      ],
      "metadata": {
        "id": "AyWkU4JPcbqG"
      },
      "execution_count": null,
      "outputs": []
    },
    {
      "cell_type": "code",
      "source": [
        "person = {\"name\": \"Alice\", \"age\": 25}\n",
        "print(type(person))           # Output: <class 'dict'>\n",
        "print(person[\"name\"])         # Access value by key: Output: \"Alice\"\n",
        "person[\"age\"] = 26            # Modify value\n",
        "print(person)                 # Output: {'name': 'Alice', 'age': 26}"
      ],
      "metadata": {
        "id": "-Nq6inHpcoFW"
      },
      "execution_count": null,
      "outputs": []
    },
    {
      "cell_type": "code",
      "source": [
        "unique_numbers = {1, 2, 3, 3}\n",
        "print(type(unique_numbers))   # Output: <class 'set'>\n",
        "print(unique_numbers)         # Output: {1, 2, 3} (duplicates removed)\n",
        "unique_numbers.add(4)         # Add item\n",
        "print(unique_numbers)         # Output: {1, 2, 3, 4}"
      ],
      "metadata": {
        "id": "BTKQTFXHcoC9"
      },
      "execution_count": null,
      "outputs": []
    },
    {
      "cell_type": "code",
      "source": [
        "x = None\n",
        "print(type(x))                # Output: <class 'NoneType'>"
      ],
      "metadata": {
        "id": "ikabPDMAcoA4"
      },
      "execution_count": null,
      "outputs": []
    },
    {
      "cell_type": "markdown",
      "source": [
        "# What Is input()?"
      ],
      "metadata": {
        "id": "5YDQKx0mctsh"
      }
    },
    {
      "cell_type": "code",
      "source": [
        "name = input(\"What's your name? \")\n",
        "print(f\"Hello, {name}!\")  # Output: Hello, [name entered]"
      ],
      "metadata": {
        "id": "N79znTy6cn-R"
      },
      "execution_count": null,
      "outputs": []
    },
    {
      "cell_type": "code",
      "source": [
        "age = int(input(\"How old are you? \"))\n",
        "print(f\"Next year, you'll be {age + 1} years old!\")  # Adds 1 to the entered age"
      ],
      "metadata": {
        "id": "S9RSDsKycwpR"
      },
      "execution_count": null,
      "outputs": []
    },
    {
      "cell_type": "code",
      "source": [
        "height = float(input(\"Enter your height in meters: \"))\n",
        "print(f\"Your height is {height} meters.\")  # Displays the entered height as a float"
      ],
      "metadata": {
        "id": "Dfxk8elFcwnL"
      },
      "execution_count": null,
      "outputs": []
    },
    {
      "cell_type": "code",
      "source": [
        "# Input as a string\n",
        "name = input(\"Enter your name: \")\n",
        "\n",
        "# Input as an integer\n",
        "age = int(input(\"Enter your age: \"))\n",
        "\n",
        "# Input as a float\n",
        "weight = float(input(\"Enter your weight in kilograms: \"))\n",
        "\n",
        "# Output all inputs\n",
        "print(f\"Hello, {name}! You are {age} years old and weigh {weight} kg.\")"
      ],
      "metadata": {
        "id": "lf35jlKacwkm"
      },
      "execution_count": null,
      "outputs": []
    },
    {
      "cell_type": "markdown",
      "source": [
        "# ⚡ Challenge for Students:\n",
        "\n",
        "Write a program that:\n",
        "\n",
        "1. Takes the user's name (string).\n",
        "2. Asks for their birth year (integer).\n",
        "3. Calculates and displays their age in 2024 (integer).\n",
        "4. Asks for their height in meters (float) and calculates BMI given their weight."
      ],
      "metadata": {
        "id": "gR1IeLSCc1W2"
      }
    },
    {
      "cell_type": "code",
      "source": [
        "# Write your code here!"
      ],
      "metadata": {
        "id": "bwWA1kt7cwiM"
      },
      "execution_count": null,
      "outputs": []
    },
    {
      "cell_type": "markdown",
      "source": [
        "# Loop and Condition"
      ],
      "metadata": {
        "id": "dW3z1zUjfJ0q"
      }
    },
    {
      "cell_type": "code",
      "source": [
        "fruits = [\"🍎\", \"🍌\", \"🍇\"]\n",
        "for fruit in fruits:\n",
        "    print(f\"I love {fruit}\")"
      ],
      "metadata": {
        "id": "uVmd0xd3cwf3"
      },
      "execution_count": null,
      "outputs": []
    },
    {
      "cell_type": "code",
      "source": [
        "count = 0\n",
        "while count < 5:\n",
        "    print(\"🍄\" * (count + 1))  # Print mushrooms\n",
        "    count += 1  # Increment the counter"
      ],
      "metadata": {
        "id": "RiboqnF6cwdP"
      },
      "execution_count": null,
      "outputs": []
    },
    {
      "cell_type": "code",
      "source": [
        "number = 10\n",
        "if number % 2 == 0:\n",
        "    print(f\"{number} is even 🎉\")\n",
        "else:\n",
        "    print(f\"{number} is odd 🔢\")"
      ],
      "metadata": {
        "id": "OcJodCLQcwZW"
      },
      "execution_count": null,
      "outputs": []
    },
    {
      "cell_type": "code",
      "source": [
        "age = 18\n",
        "if age < 13:\n",
        "    print(\"You are a child 🧒\")\n",
        "elif age < 20:\n",
        "    print(\"You are a teenager 🧑‍🎤\")\n",
        "else:\n",
        "    print(\"You are an adult 🧑‍💼\")"
      ],
      "metadata": {
        "id": "v_qT-PYncwOs"
      },
      "execution_count": null,
      "outputs": []
    },
    {
      "cell_type": "code",
      "source": [
        "for i in range(1, 10, 2):  # Start at 1, go up to 9, step by 2\n",
        "    print(i, end=\" \")"
      ],
      "metadata": {
        "id": "3QEUP2j-fVLI"
      },
      "execution_count": null,
      "outputs": []
    },
    {
      "cell_type": "code",
      "source": [
        "for i in range(1, 10):\n",
        "    if i % 2 == 0:\n",
        "        print(f\"{i} is even 🎯\")\n",
        "    else:\n",
        "        print(f\"{i} is odd 💡\")"
      ],
      "metadata": {
        "id": "xhn6QXpDfVIy"
      },
      "execution_count": null,
      "outputs": []
    },
    {
      "cell_type": "code",
      "source": [
        "while True:  # This will run forever!\n",
        "    answer = input(\"Type 'exit' to stop: \")\n",
        "    if answer == \"exit\":\n",
        "        print(\"Goodbye! 👋\")\n",
        "        break  # Exit the loop"
      ],
      "metadata": {
        "id": "k-XJRuQJfVGM"
      },
      "execution_count": null,
      "outputs": []
    },
    {
      "cell_type": "markdown",
      "source": [
        "# start, stop, and step arguments in Python's range()"
      ],
      "metadata": {
        "id": "zgJkprnxgyHf"
      }
    },
    {
      "cell_type": "code",
      "source": [
        "# Example 1: Default start (0) and step (1)\n",
        "for i in range(5):  # start=0, stop=5, step=1\n",
        "    print(i, end=\" \")"
      ],
      "metadata": {
        "id": "EgecIZsUgzNd"
      },
      "execution_count": null,
      "outputs": []
    },
    {
      "cell_type": "code",
      "source": [
        "# Example 2: Specifying start and stop\n",
        "for i in range(2, 6):  # start=2, stop=6, step=1\n",
        "    print(i, end=\" \")"
      ],
      "metadata": {
        "id": "usDhAoP9gzLG"
      },
      "execution_count": null,
      "outputs": []
    },
    {
      "cell_type": "code",
      "source": [
        "# Example 3: Negative step for reverse counting\n",
        "for i in range(5, 0, -1):  # start=5, stop=0, step=-1\n",
        "    print(i, end=\" \")"
      ],
      "metadata": {
        "id": "6oza1FRegzIx"
      },
      "execution_count": null,
      "outputs": []
    },
    {
      "cell_type": "code",
      "source": [
        "# Example 4: Step > 1\n",
        "for i in range(0, 10, 2):  # start=0, stop=10, step=2\n",
        "    print(i, end=\" \")"
      ],
      "metadata": {
        "id": "apHCp709gzF6"
      },
      "execution_count": null,
      "outputs": []
    },
    {
      "cell_type": "code",
      "source": [
        "# Example 5: Generating odd numbers\n",
        "for i in range(1, 10, 2):  # start=1, stop=10, step=2\n",
        "    print(i, end=\" \")"
      ],
      "metadata": {
        "id": "j7ZMBruMgzDC"
      },
      "execution_count": null,
      "outputs": []
    },
    {
      "cell_type": "code",
      "source": [
        "# Example 6: Reverse counting with skipping\n",
        "for i in range(10, 0, -2):  # start=10, stop=0, step=-2\n",
        "    print(i, end=\" \")"
      ],
      "metadata": {
        "id": "jGq_zSjugzAa"
      },
      "execution_count": null,
      "outputs": []
    },
    {
      "cell_type": "code",
      "source": [
        "# Example 7: Counting with a negative start\n",
        "for i in range(-5, 6):  # start=-5, stop=6, step=1\n",
        "    print(i, end=\" \")"
      ],
      "metadata": {
        "id": "4J0In8Cni7k7"
      },
      "execution_count": null,
      "outputs": []
    },
    {
      "cell_type": "code",
      "source": [
        "# Example 8: Simulating fractions using integers\n",
        "for i in range(0, 10, 3):  # step=3\n",
        "    print(i / 10, end=\" \")"
      ],
      "metadata": {
        "id": "nS4QHtvXi7i4"
      },
      "execution_count": null,
      "outputs": []
    },
    {
      "cell_type": "code",
      "source": [
        "# Example 9: Access elements by index\n",
        "names = [\"Alice\", \"Bob\", \"Charlie\"]\n",
        "for i in range(len(names)):  # range(0, 3)\n",
        "    print(f\"Index {i}: {names[i]}\")"
      ],
      "metadata": {
        "id": "i7nNuxLZi7gh"
      },
      "execution_count": null,
      "outputs": []
    },
    {
      "cell_type": "code",
      "source": [
        "# Example 10: Creating a multiplication table\n",
        "for i in range(1, 4):  # Outer loop (1 to 3)\n",
        "    for j in range(1, 4):  # Inner loop (1 to 3)\n",
        "        print(f\"{i} x {j} = {i * j}\", end=\" | \")\n",
        "    print()  # New line after each row"
      ],
      "metadata": {
        "id": "DWQIFnYwi7d5"
      },
      "execution_count": null,
      "outputs": []
    },
    {
      "cell_type": "markdown",
      "source": [
        "# break, continue, and else with loops"
      ],
      "metadata": {
        "id": "NCrHHrtIftxF"
      }
    },
    {
      "cell_type": "code",
      "source": [
        "# Example 1: Break when finding a target\n",
        "for i in range(1, 10):  # Loop through numbers 1 to 9\n",
        "    print(f\"Checking {i}...\")\n",
        "    if i == 5:  # Break the loop when i equals 5\n",
        "        print(\"Found 5! Breaking the loop.\")\n",
        "        break"
      ],
      "metadata": {
        "id": "VVpsb0h5fVDm"
      },
      "execution_count": null,
      "outputs": []
    },
    {
      "cell_type": "code",
      "source": [
        "# Example 2: Skip even numbers\n",
        "for i in range(1, 10):  # Loop through numbers 1 to 9\n",
        "    if i % 2 == 0:  # If the number is even, skip it\n",
        "        continue\n",
        "    print(i, end=\" \")  # Print odd numbers"
      ],
      "metadata": {
        "id": "EDR4YBKxfVA9"
      },
      "execution_count": null,
      "outputs": []
    },
    {
      "cell_type": "code",
      "source": [
        "# Example 3: Check if a number is prime\n",
        "n = int(input(\"Enter a number: \"))  # Input a number\n",
        "for i in range(2, n):  # Loop from 2 to n-1\n",
        "    if n % i == 0:  # If divisible by i, not a prime number\n",
        "        print(f\"{n} is not a prime number. Found a divisor: {i}\")\n",
        "        break\n",
        "else:  # This runs if the loop finishes without breaking\n",
        "    print(f\"{n} is a prime number!\")"
      ],
      "metadata": {
        "id": "PI4EXlkMjQua"
      },
      "execution_count": null,
      "outputs": []
    },
    {
      "cell_type": "code",
      "source": [
        "# Example 4: Print a grid, but skip certain cells\n",
        "for row in range(1, 4):  # Outer loop for rows\n",
        "    for col in range(1, 4):  # Inner loop for columns\n",
        "        if row == col:  # Skip cells where row equals col\n",
        "            continue\n",
        "        print(f\"Cell ({row}, {col})\")"
      ],
      "metadata": {
        "id": "k7SKFAFrjQsW"
      },
      "execution_count": null,
      "outputs": []
    },
    {
      "cell_type": "code",
      "source": [
        "# Example 5: Break out of a nested loop\n",
        "for i in range(1, 4):  # Outer loop\n",
        "    for j in range(1, 4):  # Inner loop\n",
        "        print(f\"Checking ({i}, {j})...\")\n",
        "        if i == 2 and j == 2:  # Break both loops when (2, 2)\n",
        "            print(\"Breaking out of both loops!\")\n",
        "            break\n",
        "    if i == 2:  # Ensure the outer loop also stops\n",
        "        break"
      ],
      "metadata": {
        "id": "_YUWMYpqjQp_"
      },
      "execution_count": null,
      "outputs": []
    },
    {
      "cell_type": "code",
      "source": [
        "# Example 6: Guess the number game\n",
        "secret = 7  # Secret number\n",
        "print(\"Guess the secret number (1-10):\")\n",
        "while True:  # Infinite loop\n",
        "    guess = int(input(\"Your guess: \"))\n",
        "    if guess == secret:  # If guessed correctly, break\n",
        "        print(\"🎉 Correct! You win!\")\n",
        "        break\n",
        "    elif guess < secret:  # Hint if guess is too low\n",
        "        print(\"Too low! Try again.\")\n",
        "    else:  # Hint if guess is too high\n",
        "        print(\"Too high! Try again.\")"
      ],
      "metadata": {
        "id": "7ZgXhDu5jQna"
      },
      "execution_count": null,
      "outputs": []
    },
    {
      "cell_type": "code",
      "source": [
        "# Example 7: Skip printing 🍄 on certain rows\n",
        "for i in range(1, 6):  # Rows 1 to 5\n",
        "    if i == 3:  # Skip row 3\n",
        "        continue\n",
        "    print(\"🍄\" * i)  # Print mushrooms"
      ],
      "metadata": {
        "id": "1gfpoH0mjQkh"
      },
      "execution_count": null,
      "outputs": []
    },
    {
      "cell_type": "code",
      "source": [
        "# Example 8: Treasure hunt\n",
        "treasure_map = [\"💧\", \"💧\", \"💧\", \"💰\", \"💧\"]\n",
        "for i, spot in enumerate(treasure_map):  # Enumerate the list\n",
        "    if spot == \"💰\":  # If treasure is found\n",
        "        print(f\"Treasure found at position {i}!\")\n",
        "        break\n",
        "else:  # If the loop completes without finding treasure\n",
        "    print(\"No treasure found!\")"
      ],
      "metadata": {
        "id": "L-1rhso8jXvS"
      },
      "execution_count": null,
      "outputs": []
    },
    {
      "cell_type": "markdown",
      "source": [
        "# Small Lab: In Class\n",
        "\n",
        "Generate an Upside-Down Checkerboard 🟢🟡\n",
        "\n",
        "- Write a program to print a checkerboard pattern of size n x n, but with a\n",
        "- twist: it should start from the bottom row and work upward."
      ],
      "metadata": {
        "id": "oOicmJ7WkZkX"
      }
    },
    {
      "cell_type": "code",
      "source": [
        "# Write your code here!"
      ],
      "metadata": {
        "id": "pwah9bOxnRet",
        "colab": {
          "base_uri": "https://localhost:8080/"
        },
        "outputId": "89249c0d-8c9a-4abd-e9d7-4e2a7da29c67"
      },
      "execution_count": null,
      "outputs": [
        {
          "output_type": "stream",
          "name": "stdout",
          "text": [
            "Enter size: 9\n",
            "🟢 🟡 🟢 🟡 🟢 🟡 🟢 🟡 🟢 \n",
            "🟡 🟢 🟡 🟢 🟡 🟢 🟡 🟢 🟡 \n",
            "🟢 🟡 🟢 🟡 🟢 🟡 🟢 🟡 🟢 \n",
            "🟡 🟢 🟡 🟢 🟡 🟢 🟡 🟢 🟡 \n",
            "🟢 🟡 🟢 🟡 🟢 🟡 🟢 🟡 🟢 \n",
            "🟡 🟢 🟡 🟢 🟡 🟢 🟡 🟢 🟡 \n",
            "🟢 🟡 🟢 🟡 🟢 🟡 🟢 🟡 🟢 \n",
            "🟡 🟢 🟡 🟢 🟡 🟢 🟡 🟢 🟡 \n",
            "🟢 🟡 🟢 🟡 🟢 🟡 🟢 🟡 🟢 \n"
          ]
        }
      ]
    },
    {
      "cell_type": "markdown",
      "source": [
        "# Assignment"
      ],
      "metadata": {
        "id": "DeGaCDqgqQaj"
      }
    },
    {
      "cell_type": "code",
      "source": [
        "# Write your code here!"
      ],
      "metadata": {
        "colab": {
          "base_uri": "https://localhost:8080/"
        },
        "id": "kgNrPkSKrJeJ",
        "outputId": "71405ebc-f24d-4fa1-fa62-84bd691246f4"
      },
      "execution_count": null,
      "outputs": [
        {
          "output_type": "stream",
          "name": "stdout",
          "text": [
            "Enter size of the Christmas tree: 9\n",
            "        ⭐\n",
            "        🎄\n",
            "       🎄🎄🎄\n",
            "      🎄🎄🎄🎄🎄\n",
            "     🎄🎄🎄🎄🎄🎄🎄\n",
            "    🎄🎄🎄🎄🎄🎄🎄🎄🎄\n",
            "   🎄🎄🎄🎄🎄🎄🎄🎄🎄🎄🎄\n",
            "  🎄🎄🎄🎄🎄🎄🎄🎄🎄🎄🎄🎄🎄\n",
            " 🎄🎄🎄🎄🎄🎄🎄🎄🎄🎄🎄🎄🎄🎄🎄\n",
            "🎄🎄🎄🎄🎄🎄🎄🎄🎄🎄🎄🎄🎄🎄🎄🎄🎄\n"
          ]
        }
      ]
    }
  ]
}