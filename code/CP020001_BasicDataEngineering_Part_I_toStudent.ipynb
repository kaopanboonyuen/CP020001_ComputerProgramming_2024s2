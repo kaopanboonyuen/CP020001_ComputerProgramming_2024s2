{
  "nbformat": 4,
  "nbformat_minor": 0,
  "metadata": {
    "colab": {
      "provenance": [],
      "toc_visible": true
    },
    "kernelspec": {
      "name": "python3",
      "display_name": "Python 3"
    },
    "language_info": {
      "name": "python"
    }
  },
  "cells": [
    {
      "cell_type": "markdown",
      "source": [
        "# 📌 **Pandas Basics for Data Engineering**\n",
        "\n",
        "### Instructor: Kao Panboonyuen\n",
        "\n",
        "In this course, we'll cover everything you need to know to work with **Pandas DataFrames**. Topics include:\n",
        "\n",
        "1. **Creating DataFrames**\n",
        "2. **Indexing & Selecting Data** (`iloc` & `loc`)\n",
        "3. **Basic DataFrame Operations**\n",
        "4. **Handling Missing Data** (`fillna`)\n",
        "5. **String Operations in Pandas**\n",
        "6. **Filtering & Sorting Data**\n",
        "7. **GroupBy & Aggregation**\n",
        "8. **Feature Engineering** (Creating New Features)\n",
        "9. **Saving & Loading Data** (CSV, Excel)\n",
        "10. **Basic Data Visualization in Pandas**\n",
        "11. **Joining & Merging DataFrames**\n",
        "\n",
        "Each section comes with **code examples** and **assignments** to reinforce your learning.\n",
        "\n",
        "Let’s dive in and get started! 🚀"
      ],
      "metadata": {
        "id": "6a_7JhM3umIR"
      }
    },
    {
      "cell_type": "markdown",
      "source": [
        "# 1️⃣ Creating DataFrames in Pandas\n",
        "\n",
        "You can create DataFrames using dictionaries, lists, and lists of dictionaries.\n",
        "\n",
        "🔹 Creating a DataFrame from a Dictionary"
      ],
      "metadata": {
        "id": "uNYkAuNou6rk"
      }
    },
    {
      "cell_type": "code",
      "execution_count": null,
      "metadata": {
        "id": "TRTABpJOj6Yo"
      },
      "outputs": [],
      "source": [
        "import pandas as pd\n",
        "\n",
        "data_dict = {\n",
        "    'Customer_ID': [101, 102, 103, 104, 105],\n",
        "    'Customer_Name': ['Alice', 'Bob', 'Charlie', 'David', 'Eve'],\n",
        "    'Product': ['Laptop', 'Phone', 'Tablet', 'Laptop', 'Phone'],\n",
        "    'Price': [1200, 800, 600, 1300, 850],\n",
        "    'Salary': [5000, 6000, 7000, 4000, 6500]\n",
        "}\n",
        "\n",
        "df = pd.DataFrame(data_dict)\n",
        "df"
      ]
    },
    {
      "cell_type": "markdown",
      "source": [
        "## 🔹 Creating a DataFrame from a List of Lists\n"
      ],
      "metadata": {
        "id": "IPDiVwkAvE5m"
      }
    },
    {
      "cell_type": "code",
      "source": [
        "data_list = [\n",
        "    [101, 'Alice', 'Laptop', 1200, 5000],\n",
        "    [102, 'Bob', 'Phone', 800, 6000],\n",
        "    [103, 'Charlie', 'Tablet', 600, 7000],\n",
        "    [104, 'David', 'Laptop', 1300, 4000],\n",
        "    [105, 'Eve', 'Phone', 850, 6500]\n",
        "]\n",
        "\n",
        "columns = ['Customer_ID', 'Customer_Name', 'Product', 'Price', 'Salary']\n",
        "df_list = pd.DataFrame(data_list, columns=columns)\n",
        "df_list"
      ],
      "metadata": {
        "id": "Sw773JH2vAoO"
      },
      "execution_count": null,
      "outputs": []
    },
    {
      "cell_type": "markdown",
      "source": [
        "## 📌 Assignment 1:\n",
        "Create a DataFrame about students with columns 'Student_ID', 'Name', 'Age', 'GPA', and 'Major'."
      ],
      "metadata": {
        "id": "tz7RfK4XvIRi"
      }
    },
    {
      "cell_type": "code",
      "source": [
        "# Insert your code here"
      ],
      "metadata": {
        "id": "AZQKFgArvHhl"
      },
      "execution_count": null,
      "outputs": []
    },
    {
      "cell_type": "markdown",
      "source": [
        "- Expected Output\n",
        "![](https://github.com/kaopanboonyuen/CP020001_ComputerProgramming_2024s2/raw/main/img/pd_as01_2.png)"
      ],
      "metadata": {
        "id": "G3rOWIqvUAqc"
      }
    },
    {
      "cell_type": "markdown",
      "source": [
        "# 2️⃣ Selecting Data in Pandas (iloc & loc)"
      ],
      "metadata": {
        "id": "7PxFvezhvQv-"
      }
    },
    {
      "cell_type": "markdown",
      "source": [
        "## 🔹 Using .iloc[] for Index-Based Selection"
      ],
      "metadata": {
        "id": "KNqDsax1vcVD"
      }
    },
    {
      "cell_type": "code",
      "source": [
        "# Select first 3 rows\n",
        "df.iloc[:3]"
      ],
      "metadata": {
        "id": "vjyrKOHSvM5Q"
      },
      "execution_count": null,
      "outputs": []
    },
    {
      "cell_type": "code",
      "source": [
        "# Select second row\n",
        "df.iloc[1]"
      ],
      "metadata": {
        "id": "lyc4K6OEvVnR"
      },
      "execution_count": null,
      "outputs": []
    },
    {
      "cell_type": "code",
      "source": [
        "# Select first 3 rows and first 2 columns\n",
        "df.iloc[:3, :2]"
      ],
      "metadata": {
        "id": "3zuf1otdvVik"
      },
      "execution_count": null,
      "outputs": []
    },
    {
      "cell_type": "markdown",
      "source": [
        "## 🔹 Using .loc[] for Label-Based Selection"
      ],
      "metadata": {
        "id": "t_K7HPWfvaCF"
      }
    },
    {
      "cell_type": "code",
      "source": [
        "# Select a single row by index\n",
        "df.loc[2]"
      ],
      "metadata": {
        "id": "CrNkyGJGvvqZ"
      },
      "execution_count": null,
      "outputs": []
    },
    {
      "cell_type": "code",
      "source": [
        "# Select rows where Price > 1000\n",
        "df.loc[df['Price'] > 1000]"
      ],
      "metadata": {
        "id": "Q204ZtKVvwB4"
      },
      "execution_count": null,
      "outputs": []
    },
    {
      "cell_type": "code",
      "source": [
        "# Select specific columns\n",
        "df.loc[:, ['Customer_Name', 'Product']]"
      ],
      "metadata": {
        "id": "bNXkhRMUvxTU"
      },
      "execution_count": null,
      "outputs": []
    },
    {
      "cell_type": "markdown",
      "source": [
        "## 📌 Assignment 2:\n",
        "Select all customers who bought a laptop and show only 'Customer_Name' and 'Price'."
      ],
      "metadata": {
        "id": "H_y9aJlEvSe6"
      }
    },
    {
      "cell_type": "code",
      "source": [
        "# Insert your code here"
      ],
      "metadata": {
        "id": "B-CVJAeCv008"
      },
      "execution_count": null,
      "outputs": []
    },
    {
      "cell_type": "markdown",
      "source": [
        "# 3️⃣ Basic DataFrame Operations"
      ],
      "metadata": {
        "id": "rN5cNOLtv3yP"
      }
    },
    {
      "cell_type": "code",
      "source": [
        "df.head()    # First 5 rows"
      ],
      "metadata": {
        "id": "s7sMWYsGv2bt"
      },
      "execution_count": null,
      "outputs": []
    },
    {
      "cell_type": "code",
      "source": [
        "df.shape     # (rows, columns)"
      ],
      "metadata": {
        "id": "uU8urSp1v-Jc"
      },
      "execution_count": null,
      "outputs": []
    },
    {
      "cell_type": "code",
      "source": [
        "df.info()    # Data type of each column"
      ],
      "metadata": {
        "id": "HKEYWD7av-D-"
      },
      "execution_count": null,
      "outputs": []
    },
    {
      "cell_type": "code",
      "source": [
        "df.describe()  # Summary statistics"
      ],
      "metadata": {
        "id": "5zwXrvIav-AE"
      },
      "execution_count": null,
      "outputs": []
    },
    {
      "cell_type": "markdown",
      "source": [
        "# 4️⃣ Handling Missing Data (fillna)"
      ],
      "metadata": {
        "id": "e-eORRk1wEDt"
      }
    },
    {
      "cell_type": "code",
      "source": [
        "# df.fillna(0)  # Replace NaN with 0\n",
        "# df.fillna(df.mean())  # Replace NaN with column mean\n",
        "# df.dropna()  # Drop missing rows"
      ],
      "metadata": {
        "id": "II3xiNrlwBub"
      },
      "execution_count": null,
      "outputs": []
    },
    {
      "cell_type": "markdown",
      "source": [
        "# 5️⃣ String Operations in Pandas"
      ],
      "metadata": {
        "id": "NyOD5WRAwGib"
      }
    },
    {
      "cell_type": "code",
      "source": [
        "df['Customer_Name'].str.lower()   # Convert to lowercase"
      ],
      "metadata": {
        "id": "V9P_X_j-wICC"
      },
      "execution_count": null,
      "outputs": []
    },
    {
      "cell_type": "code",
      "source": [
        "df['Customer_Name'].str.upper()   # Convert to uppercase"
      ],
      "metadata": {
        "id": "aF6kEA1WwJfG"
      },
      "execution_count": null,
      "outputs": []
    },
    {
      "cell_type": "code",
      "source": [
        "df['Customer_Name'].str.contains('Alice')  # Check if contains"
      ],
      "metadata": {
        "id": "K9PGR1IawLzG"
      },
      "execution_count": null,
      "outputs": []
    },
    {
      "cell_type": "markdown",
      "source": [
        "# 6️⃣ Filtering & Sorting Data"
      ],
      "metadata": {
        "id": "OLWmqzGXwOae"
      }
    },
    {
      "cell_type": "code",
      "source": [
        "df[df['Price'] > 1000]  # Filter rows"
      ],
      "metadata": {
        "id": "siqEairuwM8F"
      },
      "execution_count": null,
      "outputs": []
    },
    {
      "cell_type": "code",
      "source": [
        "df.sort_values('Price', ascending=False)  # Sort by price"
      ],
      "metadata": {
        "id": "-BDiFTFAwdVf"
      },
      "execution_count": null,
      "outputs": []
    },
    {
      "cell_type": "markdown",
      "source": [
        "# 7️⃣ GroupBy & Aggregation"
      ],
      "metadata": {
        "id": "dLzjO_CrwjPk"
      }
    },
    {
      "cell_type": "code",
      "source": [
        "df.groupby('Product')['Price'].mean()  # Average price per product"
      ],
      "metadata": {
        "id": "AqrWBjy8wfie"
      },
      "execution_count": null,
      "outputs": []
    },
    {
      "cell_type": "code",
      "source": [
        "df.groupby('Product').agg({'Price': ['mean', 'max', 'min']})  # Multiple aggregations"
      ],
      "metadata": {
        "id": "PO9Tjdtpwlw0"
      },
      "execution_count": null,
      "outputs": []
    },
    {
      "cell_type": "markdown",
      "source": [
        "# 8️⃣ Feature Engineering (Creating New Features)"
      ],
      "metadata": {
        "id": "ZUGd84HpwnzF"
      }
    },
    {
      "cell_type": "code",
      "source": [
        "df['Discounted_Price'] = df['Price'] * 0.9  # 10% discount"
      ],
      "metadata": {
        "id": "xutEw6iswmWD"
      },
      "execution_count": null,
      "outputs": []
    },
    {
      "cell_type": "code",
      "source": [
        "df.head()"
      ],
      "metadata": {
        "id": "0moH5-wcV20Z"
      },
      "execution_count": null,
      "outputs": []
    },
    {
      "cell_type": "code",
      "source": [
        "df['Salary_to_Price'] = df['Salary'] / df['Price']  # Ratio"
      ],
      "metadata": {
        "id": "LSKEDfhxwqnl"
      },
      "execution_count": null,
      "outputs": []
    },
    {
      "cell_type": "code",
      "source": [
        "df.head()"
      ],
      "metadata": {
        "id": "rTFOjICZV5YL"
      },
      "execution_count": null,
      "outputs": []
    },
    {
      "cell_type": "markdown",
      "source": [
        "## 🔹 Using apply() for Custom Functions"
      ],
      "metadata": {
        "id": "lKxwEtePwr51"
      }
    },
    {
      "cell_type": "code",
      "source": [
        "def categorize_salary(salary):\n",
        "    return 'High' if salary > 6000 else 'Low'\n",
        "\n",
        "df['Salary_Category'] = df['Salary'].apply(categorize_salary)"
      ],
      "metadata": {
        "id": "AlSiKob3wrFs"
      },
      "execution_count": null,
      "outputs": []
    },
    {
      "cell_type": "code",
      "source": [
        "df.head()"
      ],
      "metadata": {
        "id": "ePvG0MXXWa97"
      },
      "execution_count": null,
      "outputs": []
    },
    {
      "cell_type": "markdown",
      "source": [
        "# 9️⃣ Saving & Loading Data"
      ],
      "metadata": {
        "id": "Gg8Tu5n_wwhd"
      }
    },
    {
      "cell_type": "code",
      "source": [
        "df.to_csv('data.csv', index=False)  # Save\n",
        "df = pd.read_csv('data.csv')  # Load"
      ],
      "metadata": {
        "id": "WbC1NcEhwu65"
      },
      "execution_count": null,
      "outputs": []
    },
    {
      "cell_type": "markdown",
      "source": [
        "# 🔟 Basic Data Visualization"
      ],
      "metadata": {
        "id": "7XKJW1KlwzXM"
      }
    },
    {
      "cell_type": "code",
      "source": [
        "import matplotlib.pyplot as plt\n",
        "\n",
        "df['Price'].plot(kind='hist')  # Histogram\n",
        "df['Product'].value_counts().plot(kind='bar')  # Bar chart"
      ],
      "metadata": {
        "id": "dRlyv0cFwyIT"
      },
      "execution_count": null,
      "outputs": []
    },
    {
      "cell_type": "markdown",
      "source": [
        "# 1️⃣1️⃣ Joining & Merging DataFrames"
      ],
      "metadata": {
        "id": "ZZgqKd_Pw2_P"
      }
    },
    {
      "cell_type": "code",
      "source": [
        "df1 = pd.DataFrame({'Customer_ID': [101, 102, 103], 'Region': ['North', 'South', 'East']})\n",
        "df2 = pd.merge(df, df1, on='Customer_ID', how='left')\n",
        "df2"
      ],
      "metadata": {
        "id": "9bdsWHmLw0-i"
      },
      "execution_count": null,
      "outputs": []
    },
    {
      "cell_type": "markdown",
      "source": [
        "# 📌 Final Assignment:\n",
        "- Create a new feature Discounted_Price (Price with a 20% discount).\n",
        "- Filter customers who have a salary above 6000 and sort them by price (descending order)."
      ],
      "metadata": {
        "id": "jm_5URcvxDbm"
      }
    },
    {
      "cell_type": "code",
      "source": [
        "# Insert your code here"
      ],
      "metadata": {
        "id": "z6aIyaKSxAUL"
      },
      "execution_count": null,
      "outputs": []
    },
    {
      "cell_type": "markdown",
      "source": [
        "# 🔹 Post-Test Questions"
      ],
      "metadata": {
        "id": "RowWhUo0xaxt"
      }
    },
    {
      "cell_type": "markdown",
      "source": [
        "## 📌 Given df2"
      ],
      "metadata": {
        "id": "Kys6Tw2uxjXK"
      }
    },
    {
      "cell_type": "code",
      "source": [
        "import pandas as pd\n",
        "\n",
        "# Creating a sample DataFrame (df2)\n",
        "data = {\n",
        "    'Customer_ID': [101, 102, 103, 104, 105, 106],\n",
        "    'Customer_Name': ['Alice', 'Bob', 'Charlie', 'David', 'Eve', 'Frank'],\n",
        "    'Product': ['Laptop', 'Phone', 'Tablet', 'Laptop', 'Phone', 'Tablet'],\n",
        "    'Price': [1200, 800, 600, 1300, 850, 500],\n",
        "    'Salary': [5000, 6000, 7000, 4000, 6500, 5500],\n",
        "    'Region': ['North', 'South', 'East', 'North', 'West', 'South']\n",
        "}\n",
        "df2 = pd.DataFrame(data)\n",
        "df2"
      ],
      "metadata": {
        "id": "E-42RyLpxHL_"
      },
      "execution_count": null,
      "outputs": []
    },
    {
      "cell_type": "markdown",
      "source": [
        "## 1️⃣ Select customers who bought a laptop and have a salary above 4500. Show only 'Customer_Name' and 'Price'."
      ],
      "metadata": {
        "id": "VeJLxVMvxmPP"
      }
    },
    {
      "cell_type": "code",
      "source": [
        "# Insert your code here"
      ],
      "metadata": {
        "id": "pHBd22yDxm3R"
      },
      "execution_count": null,
      "outputs": []
    },
    {
      "cell_type": "markdown",
      "source": [
        "## 2️⃣ What is the average price for each product category?"
      ],
      "metadata": {
        "id": "a-U-HiFAxvOY"
      }
    },
    {
      "cell_type": "code",
      "source": [
        "# Insert your code here"
      ],
      "metadata": {
        "id": "uWEMNGwrxs_p"
      },
      "execution_count": null,
      "outputs": []
    },
    {
      "cell_type": "markdown",
      "source": [
        "## 3️⃣ Create a new column Discounted_Price with a 15% discount on the Price."
      ],
      "metadata": {
        "id": "QYj7_BERxyMn"
      }
    },
    {
      "cell_type": "code",
      "source": [
        "# Insert your code here"
      ],
      "metadata": {
        "id": "Y9ziX0hLxwt5"
      },
      "execution_count": null,
      "outputs": []
    },
    {
      "cell_type": "markdown",
      "source": [
        "## 4️⃣ Count how many customers are from each region."
      ],
      "metadata": {
        "id": "LgG50Ay-x1j8"
      }
    },
    {
      "cell_type": "code",
      "source": [
        "# Insert your code here"
      ],
      "metadata": {
        "id": "b6xSzbaTxz3r"
      },
      "execution_count": null,
      "outputs": []
    },
    {
      "cell_type": "markdown",
      "source": [
        "## 5️⃣ Sort the DataFrame by Salary in descending order and show only 'Customer_Name' and 'Salary'."
      ],
      "metadata": {
        "id": "5jMydL-hx5yY"
      }
    },
    {
      "cell_type": "code",
      "source": [
        "# Insert your code here"
      ],
      "metadata": {
        "id": "T3bQGlp5x6aI"
      },
      "execution_count": null,
      "outputs": []
    }
  ]
}